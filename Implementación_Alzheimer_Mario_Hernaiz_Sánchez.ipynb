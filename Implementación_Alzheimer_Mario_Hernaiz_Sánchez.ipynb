{
  "cells": [
    {
      "cell_type": "markdown",
      "metadata": {
        "id": "4Q0MN1s94g38"
      },
      "source": [
        "# Implementación"
      ]
    },
    {
      "cell_type": "code",
      "source": [
        "import joblib  # Para guardar y cargar el modelo\n",
        "import pandas as pd  # Para la manipulación de datos\n",
        "import ipywidgets as widgets  # Para crear los widgets de entrada\n",
        "import requests  # Para descargar el archivo de GitHub\n",
        "from IPython.display import display  # Para mostrar los widgets\n",
        "import joblib\n",
        "from os import name\n",
        "import joblib\n",
        "from lightgbm import LGBMClassifier"
      ],
      "metadata": {
        "id": "R_4YUxV9CRgo"
      },
      "execution_count": 11,
      "outputs": []
    },
    {
      "cell_type": "code",
      "source": [
        "github_url_model = 'https://raw.githubusercontent.com/MarioHernaiz/TFM-UCM/main/lightgbm_model.pkl'"
      ],
      "metadata": {
        "id": "CK5AHeSoE5Kk"
      },
      "execution_count": 13,
      "outputs": []
    },
    {
      "cell_type": "code",
      "source": [
        "# Descargar el modelo desde GitHub y guardarlo localmente\n",
        "response = requests.get(github_url_model)\n",
        "with open('lightgbm_model.pkl', 'wb') as f:\n",
        "    f.write(response.content)"
      ],
      "metadata": {
        "id": "X4lYuDYQdvVR",
        "collapsed": true
      },
      "execution_count": 14,
      "outputs": []
    },
    {
      "cell_type": "code",
      "source": [
        "# Cargar el modelo descargado\n",
        "model2 = joblib.load('lightgbm_model.pkl')"
      ],
      "metadata": {
        "colab": {
          "base_uri": "https://localhost:8080/"
        },
        "id": "hY67u268Esnf",
        "outputId": "59a65fbc-01b9-46c2-9e82-da693af2bf7c"
      },
      "execution_count": 15,
      "outputs": [
        {
          "output_type": "stream",
          "name": "stderr",
          "text": [
            "/usr/local/lib/python3.10/dist-packages/sklearn/base.py:348: InconsistentVersionWarning: Trying to unpickle estimator LabelEncoder from version 1.4.2 when using version 1.3.2. This might lead to breaking code or invalid results. Use at your own risk. For more info please refer to:\n",
            "https://scikit-learn.org/stable/model_persistence.html#security-maintainability-limitations\n",
            "  warnings.warn(\n"
          ]
        }
      ]
    },
    {
      "cell_type": "code",
      "source": [
        "# Ajustar el ancho de las descripciones y widgets\n",
        "style = {'description_width': '500px'}\n",
        "widget_layout = widgets.Layout(width='700px')\n",
        "\n",
        "# Crear widgets con descripciones detalladas y opciones numéricas\n",
        "age = widgets.FloatText(description='Edad (e.g., 65):', style=style, layout=widget_layout, value=0)\n",
        "gender = widgets.Dropdown(description='Género (0: Hombre, 1: Mujer):', options=[0, 1], style=style, layout=widget_layout, value=0)\n",
        "ethnicity = widgets.Dropdown(description='Etnia (0: Caucásico, 1: Afroamericano, 2: Asiático, 3: Otro):', options=[0, 1, 2, 3], style=style, layout=widget_layout, value=0)\n",
        "education_level = widgets.Dropdown(description='Nivel Educativo (0: Ninguno, 1: Secundaria, 2: Licenciatura, 3: Superior):', options=[0, 1, 2, 3], style=style, layout=widget_layout, value=0)\n",
        "bmi = widgets.FloatText(description='IMC (15-40):', style=style, layout=widget_layout, value=0)\n",
        "smoking = widgets.Dropdown(description='Fuma (0: No, 1: Sí):', options=[0, 1], style=style, layout=widget_layout, value=0)\n",
        "alcohol_consumption = widgets.FloatText(description='Consumo de Alcohol (0-20 unidades/semana):', style=style, layout=widget_layout, value=0)\n",
        "physical_activity = widgets.FloatText(description='Actividad Física (0-10 horas/semana):', style=style, layout=widget_layout, value=0)\n",
        "diet_quality = widgets.FloatText(description='Calidad de la Dieta (0-10):', style=style, layout=widget_layout, value=0)\n",
        "sleep_quality = widgets.FloatText(description='Calidad del Sueño (4-10):', style=style, layout=widget_layout, value=4)\n",
        "family_history_alzheimers = widgets.Dropdown(description='Historial Familiar de Alzheimer (0: No, 1: Sí):', options=[0, 1], style=style, layout=widget_layout, value=0)\n",
        "cardiovascular_disease = widgets.Dropdown(description='Enfermedad Cardiovascular (0: No, 1: Sí):', options=[0, 1], style=style, layout=widget_layout, value=0)\n",
        "diabetes = widgets.Dropdown(description='Diabetes (0: No, 1: Sí):', options=[0, 1], style=style, layout=widget_layout, value=0)\n",
        "depression = widgets.Dropdown(description='Depresión (0: No, 1: Sí):', options=[0, 1], style=style, layout=widget_layout, value=0)\n",
        "head_injury = widgets.Dropdown(description='Lesión en la Cabeza (0: No, 1: Sí):', options=[0, 1], style=style, layout=widget_layout, value=0)\n",
        "hypertension = widgets.Dropdown(description='Hipertensión (0: No, 1: Sí):', options=[0, 1], style=style, layout=widget_layout, value=0)\n",
        "systolic_bp = widgets.FloatText(description='Presión Sistólica (90-180 mmHg):', style=style, layout=widget_layout, value=120)\n",
        "diastolic_bp = widgets.FloatText(description='Presión Diastólica (60-120 mmHg):', style=style, layout=widget_layout, value=80)\n",
        "cholesterol_total = widgets.FloatText(description='Colesterol Total (150-300 mg/dL):', style=style, layout=widget_layout, value=200)\n",
        "cholesterol_ldl = widgets.FloatText(description='Colesterol LDL (50-200 mg/dL):', style=style, layout=widget_layout, value=100)\n",
        "cholesterol_hdl = widgets.FloatText(description='Colesterol HDL (20-100 mg/dL):', style=style, layout=widget_layout, value=50)\n",
        "cholesterol_triglycerides = widgets.FloatText(description='Triglicéridos (50-400 mg/dL):', style=style, layout=widget_layout, value=150)\n",
        "mmse = widgets.FloatText(description='MMSE (0-30):', style=style, layout=widget_layout, value=30)\n",
        "functional_assessment = widgets.FloatText(description='Evaluación Funcional (0-10):', style=style, layout=widget_layout, value=0)\n",
        "memory_complaints = widgets.Dropdown(description='Quejas de Memoria (0: No, 1: Sí):', options=[0, 1], style=style, layout=widget_layout, value=0)\n",
        "behavioral_problems = widgets.Dropdown(description='Problemas de Comportamiento (0: No, 1: Sí):', options=[0, 1], style=style, layout=widget_layout, value=0)\n",
        "adl = widgets.FloatText(description='ADL (0-10):', style=style, layout=widget_layout, value=0)\n",
        "confusion = widgets.Dropdown(description='Confusión (0: No, 1: Sí):', options=[0, 1], style=style, layout=widget_layout, value=0)\n",
        "disorientation = widgets.Dropdown(description='Desorientación (0: No, 1: Sí):', options=[0, 1], style=style, layout=widget_layout, value=0)\n",
        "personality_changes = widgets.Dropdown(description='Cambios de Personalidad (0: No, 1: Sí):', options=[0, 1], style=style, layout=widget_layout, value=0)\n",
        "difficulty_completing_tasks = widgets.Dropdown(description='Dificultad para Completar Tareas (0: No, 1: Sí):', options=[0, 1], style=style, layout=widget_layout, value=0)\n",
        "forgetfulness = widgets.Dropdown(description='Olvidos (0: No, 1: Sí):', options=[0, 1], style=style, layout=widget_layout, value=0)\n",
        "\n",
        "# Función para realizar la predicción\n",
        "def predict(_):\n",
        "    input_data = pd.DataFrame({\n",
        "        'Age': [age.value],\n",
        "        'Gender': [gender.value],\n",
        "        'Ethnicity': [ethnicity.value],\n",
        "        'EducationLevel': [education_level.value],\n",
        "        'BMI': [bmi.value],\n",
        "        'Smoking': [smoking.value],\n",
        "        'AlcoholConsumption': [alcohol_consumption.value],\n",
        "        'PhysicalActivity': [physical_activity.value],\n",
        "        'DietQuality': [diet_quality.value],\n",
        "        'SleepQuality': [sleep_quality.value],\n",
        "        'FamilyHistoryAlzheimers': [family_history_alzheimers.value],\n",
        "        'CardiovascularDisease': [cardiovascular_disease.value],\n",
        "        'Diabetes': [diabetes.value],\n",
        "        'Depression': [depression.value],\n",
        "        'HeadInjury': [head_injury.value],\n",
        "        'Hypertension': [hypertension.value],\n",
        "        'SystolicBP': [systolic_bp.value],\n",
        "        'DiastolicBP': [diastolic_bp.value],\n",
        "        'CholesterolTotal': [cholesterol_total.value],\n",
        "        'CholesterolLDL': [cholesterol_ldl.value],\n",
        "        'CholesterolHDL': [cholesterol_hdl.value],\n",
        "        'CholesterolTriglycerides': [cholesterol_triglycerides.value],\n",
        "        'MMSE': [mmse.value],\n",
        "        'FunctionalAssessment': [functional_assessment.value],\n",
        "        'MemoryComplaints': [memory_complaints.value],\n",
        "        'BehavioralProblems': [behavioral_problems.value],\n",
        "        'ADL': [adl.value],\n",
        "        'Confusion': [confusion.value],\n",
        "        'Disorientation': [disorientation.value],\n",
        "        'PersonalityChanges': [personality_changes.value],\n",
        "        'DifficultyCompletingTasks': [difficulty_completing_tasks.value],\n",
        "        'Forgetfulness': [forgetfulness.value]\n",
        "    })\n",
        "\n",
        "    # Realizar la predicción (sin dummies)\n",
        "    prediction = model2.predict(input_data)\n",
        "    predicted_probability = model2.predict_proba(input_data)[0][1] * 100\n",
        "\n",
        "    print(f'Predicción: {\"Alzheimer\" if prediction[0] == 1 else \"No Alzheimer\"}')\n",
        "    print(f'Probabilidad de tener Alzheimer: {predicted_probability:.2f}%')\n",
        "\n",
        "# Botón para hacer la predicción\n",
        "predict_button = widgets.Button(description=\"Predecir\", style=style, layout=widget_layout)\n",
        "predict_button.on_click(predict)\n",
        "\n",
        "# Mostrar widgets\n",
        "display(age, gender, ethnicity, education_level, bmi, smoking, alcohol_consumption, physical_activity, diet_quality, sleep_quality,\n",
        "        family_history_alzheimers, cardiovascular_disease, diabetes, depression, head_injury, hypertension, systolic_bp, diastolic_bp,\n",
        "        cholesterol_total, cholesterol_ldl, cholesterol_hdl, cholesterol_triglycerides, mmse, functional_assessment, memory_complaints,\n",
        "        behavioral_problems, adl, confusion, disorientation, personality_changes, difficulty_completing_tasks, forgetfulness, predict_button)"
      ],
      "metadata": {
        "colab": {
          "base_uri": "https://localhost:8080/",
          "height": 1000,
          "referenced_widgets": [
            "820f809cf26649b6acba7c82c042df8c",
            "0106ee40f41e42298d5b34fcd9375a76",
            "ff74f9628fc4408fb936cee966f8768d",
            "af1fb2a09fe542329a6b01ac26b2a049",
            "1844651cf2ea4ed891112df10da6bcb8",
            "334bc13b9efa4bfa80bf60690e936f4c",
            "5e34b9ab3b474b3aa5502b361f00fbc4",
            "84996c5127df4fb896d8fe901b9e849d",
            "c00ed965eb934af399b03be38efd61b8",
            "0f8423a57e0a4804bce8160173d0bba8",
            "6cca8414f9d8400abfa74e384f3a9bdc",
            "5871351286f44239a5fd858e4cac81bd",
            "74494726c35744d290d13b5db81631cf",
            "fb2e7d10d7a3444fbe5e40d2d232eede",
            "1fbcd89f04834ae9805157e05eeb5eee",
            "dc726c88c66642cf82113a6a0a1ab81d",
            "aec1d112949c434ea9d6f691f7a79fb5",
            "1220663eb2f7444fbee61a7e00aa83c0",
            "feea3a3f769744a48cd4cb01abbdd5fd",
            "7d4268ec25ce4ed0b1bfa7028ef75930",
            "f0787ce5ddd446849e779c8fd121d33c",
            "e5eafe9a578f406893d9bfe855303701",
            "c5a61631b9a241d29c7bed85f0169c36",
            "67823dd8deca4dd1980d80de275f4d9c",
            "bac84a08a80b4a8098a2ff5fa44b70ee",
            "af5ea4e670b541fa94ac0855cab039ae",
            "1d262bfff2e0404aaebadfdaf5fd3453",
            "c70bac14f52d491b9a958fad9ce4e449",
            "308734b0c4344179a6aadbd8be1efb98",
            "5feb6289edeb48c5881a935705d80816",
            "88bbd1a06f9c4ecd9dbf5a7aef2e3823",
            "d66b085946744fa8a307f45f6309ca22",
            "15f69b9d7ef84425be994896095d065b",
            "4b39aa8201384be889725173c2693bfe",
            "f42515c5889d4d1b9d9103675332b1d7",
            "8972964c01a34a19a64b83a6329ada4f",
            "6a81278fa78e4ccdbc653e92bd48c3ce",
            "a8787b01a0de41ce80f8d6ab3a6894c6",
            "b86ce9be32d84559bf6559656d16d020",
            "2994ae5b0a724f6498449cc548d76aa6",
            "64d6c1c1b24d4397b327ca56c73f888a",
            "b73e48ac75334623ae1691c4a3110166",
            "312cb36360734e059d1168930cdbfa71",
            "3d688261723a41b28b1e87ba86c4c091",
            "31075646e3244d329efe93508d58e2c0",
            "00360cf32b324bc1a9db10065cac3bdf",
            "ff798e12749641ac8d470d7eb7de16a9",
            "256b9532e3b84d24b5190f91cd9f8785",
            "8ce734e3f0334adcb73e57d16b0ed77e",
            "ab80618f95554a0ea66ae12f5370e195",
            "36298014c31a43f092edddc8f444e204",
            "a937cb8d8ec64fe08819bf936fb698b9",
            "a5b0000954324093b5f11bb905a9fe98",
            "480048bab31f4201894fb631471f6177",
            "3aaa981b61da42cdb315696f487a029e",
            "53acd488858c4446a935f5f05f3f855c",
            "3e5e12645d2e4090a8aa21926f4ec1d3",
            "ccf0ac0b1b6d45a4af5e60fc67685fe7",
            "e6f57bb7991e4aa1ac386d710216e296",
            "77390b511aa44019b65a0066021098f1",
            "7957625fcf044590a89ed0b1309d0423",
            "392bfaaa79054868b8c452c463569779",
            "a7b420ef89e24b82a09b33cd53a02ca1",
            "490ae8f5982f4bff918e2a31c8a736f5",
            "06989fbb8bd44efda6adface124aac7a",
            "6dc29d06f1434d579b857ee7903ab325",
            "283884427b91469a89aa94823e977a80"
          ]
        },
        "id": "oPPZo3Pk_lRZ",
        "outputId": "70b14f1f-d645-4d83-96c4-2ab1d10c9123"
      },
      "execution_count": 16,
      "outputs": [
        {
          "output_type": "display_data",
          "data": {
            "text/plain": [
              "FloatText(value=0.0, description='Edad (e.g., 65):', layout=Layout(width='700px'), style=DescriptionStyle(desc…"
            ],
            "application/vnd.jupyter.widget-view+json": {
              "version_major": 2,
              "version_minor": 0,
              "model_id": "820f809cf26649b6acba7c82c042df8c"
            }
          },
          "metadata": {}
        },
        {
          "output_type": "display_data",
          "data": {
            "text/plain": [
              "Dropdown(description='Género (0: Hombre, 1: Mujer):', layout=Layout(width='700px'), options=(0, 1), style=Desc…"
            ],
            "application/vnd.jupyter.widget-view+json": {
              "version_major": 2,
              "version_minor": 0,
              "model_id": "af1fb2a09fe542329a6b01ac26b2a049"
            }
          },
          "metadata": {}
        },
        {
          "output_type": "display_data",
          "data": {
            "text/plain": [
              "Dropdown(description='Etnia (0: Caucásico, 1: Afroamericano, 2: Asiático, 3: Otro):', layout=Layout(width='700…"
            ],
            "application/vnd.jupyter.widget-view+json": {
              "version_major": 2,
              "version_minor": 0,
              "model_id": "334bc13b9efa4bfa80bf60690e936f4c"
            }
          },
          "metadata": {}
        },
        {
          "output_type": "display_data",
          "data": {
            "text/plain": [
              "Dropdown(description='Nivel Educativo (0: Ninguno, 1: Secundaria, 2: Licenciatura, 3: Superior):', layout=Layo…"
            ],
            "application/vnd.jupyter.widget-view+json": {
              "version_major": 2,
              "version_minor": 0,
              "model_id": "84996c5127df4fb896d8fe901b9e849d"
            }
          },
          "metadata": {}
        },
        {
          "output_type": "display_data",
          "data": {
            "text/plain": [
              "FloatText(value=0.0, description='IMC (15-40):', layout=Layout(width='700px'), style=DescriptionStyle(descript…"
            ],
            "application/vnd.jupyter.widget-view+json": {
              "version_major": 2,
              "version_minor": 0,
              "model_id": "0f8423a57e0a4804bce8160173d0bba8"
            }
          },
          "metadata": {}
        },
        {
          "output_type": "display_data",
          "data": {
            "text/plain": [
              "Dropdown(description='Fuma (0: No, 1: Sí):', layout=Layout(width='700px'), options=(0, 1), style=DescriptionSt…"
            ],
            "application/vnd.jupyter.widget-view+json": {
              "version_major": 2,
              "version_minor": 0,
              "model_id": "5871351286f44239a5fd858e4cac81bd"
            }
          },
          "metadata": {}
        },
        {
          "output_type": "display_data",
          "data": {
            "text/plain": [
              "FloatText(value=0.0, description='Consumo de Alcohol (0-20 unidades/semana):', layout=Layout(width='700px'), s…"
            ],
            "application/vnd.jupyter.widget-view+json": {
              "version_major": 2,
              "version_minor": 0,
              "model_id": "fb2e7d10d7a3444fbe5e40d2d232eede"
            }
          },
          "metadata": {}
        },
        {
          "output_type": "display_data",
          "data": {
            "text/plain": [
              "FloatText(value=0.0, description='Actividad Física (0-10 horas/semana):', layout=Layout(width='700px'), style=…"
            ],
            "application/vnd.jupyter.widget-view+json": {
              "version_major": 2,
              "version_minor": 0,
              "model_id": "dc726c88c66642cf82113a6a0a1ab81d"
            }
          },
          "metadata": {}
        },
        {
          "output_type": "display_data",
          "data": {
            "text/plain": [
              "FloatText(value=0.0, description='Calidad de la Dieta (0-10):', layout=Layout(width='700px'), style=Descriptio…"
            ],
            "application/vnd.jupyter.widget-view+json": {
              "version_major": 2,
              "version_minor": 0,
              "model_id": "1220663eb2f7444fbee61a7e00aa83c0"
            }
          },
          "metadata": {}
        },
        {
          "output_type": "display_data",
          "data": {
            "text/plain": [
              "FloatText(value=4.0, description='Calidad del Sueño (4-10):', layout=Layout(width='700px'), style=DescriptionS…"
            ],
            "application/vnd.jupyter.widget-view+json": {
              "version_major": 2,
              "version_minor": 0,
              "model_id": "7d4268ec25ce4ed0b1bfa7028ef75930"
            }
          },
          "metadata": {}
        },
        {
          "output_type": "display_data",
          "data": {
            "text/plain": [
              "Dropdown(description='Historial Familiar de Alzheimer (0: No, 1: Sí):', layout=Layout(width='700px'), options=…"
            ],
            "application/vnd.jupyter.widget-view+json": {
              "version_major": 2,
              "version_minor": 0,
              "model_id": "e5eafe9a578f406893d9bfe855303701"
            }
          },
          "metadata": {}
        },
        {
          "output_type": "display_data",
          "data": {
            "text/plain": [
              "Dropdown(description='Enfermedad Cardiovascular (0: No, 1: Sí):', layout=Layout(width='700px'), options=(0, 1)…"
            ],
            "application/vnd.jupyter.widget-view+json": {
              "version_major": 2,
              "version_minor": 0,
              "model_id": "67823dd8deca4dd1980d80de275f4d9c"
            }
          },
          "metadata": {}
        },
        {
          "output_type": "display_data",
          "data": {
            "text/plain": [
              "Dropdown(description='Diabetes (0: No, 1: Sí):', layout=Layout(width='700px'), options=(0, 1), style=Descripti…"
            ],
            "application/vnd.jupyter.widget-view+json": {
              "version_major": 2,
              "version_minor": 0,
              "model_id": "af5ea4e670b541fa94ac0855cab039ae"
            }
          },
          "metadata": {}
        },
        {
          "output_type": "display_data",
          "data": {
            "text/plain": [
              "Dropdown(description='Depresión (0: No, 1: Sí):', layout=Layout(width='700px'), options=(0, 1), style=Descript…"
            ],
            "application/vnd.jupyter.widget-view+json": {
              "version_major": 2,
              "version_minor": 0,
              "model_id": "c70bac14f52d491b9a958fad9ce4e449"
            }
          },
          "metadata": {}
        },
        {
          "output_type": "display_data",
          "data": {
            "text/plain": [
              "Dropdown(description='Lesión en la Cabeza (0: No, 1: Sí):', layout=Layout(width='700px'), options=(0, 1), styl…"
            ],
            "application/vnd.jupyter.widget-view+json": {
              "version_major": 2,
              "version_minor": 0,
              "model_id": "5feb6289edeb48c5881a935705d80816"
            }
          },
          "metadata": {}
        },
        {
          "output_type": "display_data",
          "data": {
            "text/plain": [
              "Dropdown(description='Hipertensión (0: No, 1: Sí):', layout=Layout(width='700px'), options=(0, 1), style=Descr…"
            ],
            "application/vnd.jupyter.widget-view+json": {
              "version_major": 2,
              "version_minor": 0,
              "model_id": "d66b085946744fa8a307f45f6309ca22"
            }
          },
          "metadata": {}
        },
        {
          "output_type": "display_data",
          "data": {
            "text/plain": [
              "FloatText(value=120.0, description='Presión Sistólica (90-180 mmHg):', layout=Layout(width='700px'), style=Des…"
            ],
            "application/vnd.jupyter.widget-view+json": {
              "version_major": 2,
              "version_minor": 0,
              "model_id": "4b39aa8201384be889725173c2693bfe"
            }
          },
          "metadata": {}
        },
        {
          "output_type": "display_data",
          "data": {
            "text/plain": [
              "FloatText(value=80.0, description='Presión Diastólica (60-120 mmHg):', layout=Layout(width='700px'), style=Des…"
            ],
            "application/vnd.jupyter.widget-view+json": {
              "version_major": 2,
              "version_minor": 0,
              "model_id": "8972964c01a34a19a64b83a6329ada4f"
            }
          },
          "metadata": {}
        },
        {
          "output_type": "display_data",
          "data": {
            "text/plain": [
              "FloatText(value=200.0, description='Colesterol Total (150-300 mg/dL):', layout=Layout(width='700px'), style=De…"
            ],
            "application/vnd.jupyter.widget-view+json": {
              "version_major": 2,
              "version_minor": 0,
              "model_id": "a8787b01a0de41ce80f8d6ab3a6894c6"
            }
          },
          "metadata": {}
        },
        {
          "output_type": "display_data",
          "data": {
            "text/plain": [
              "FloatText(value=100.0, description='Colesterol LDL (50-200 mg/dL):', layout=Layout(width='700px'), style=Descr…"
            ],
            "application/vnd.jupyter.widget-view+json": {
              "version_major": 2,
              "version_minor": 0,
              "model_id": "2994ae5b0a724f6498449cc548d76aa6"
            }
          },
          "metadata": {}
        },
        {
          "output_type": "display_data",
          "data": {
            "text/plain": [
              "FloatText(value=50.0, description='Colesterol HDL (20-100 mg/dL):', layout=Layout(width='700px'), style=Descri…"
            ],
            "application/vnd.jupyter.widget-view+json": {
              "version_major": 2,
              "version_minor": 0,
              "model_id": "b73e48ac75334623ae1691c4a3110166"
            }
          },
          "metadata": {}
        },
        {
          "output_type": "display_data",
          "data": {
            "text/plain": [
              "FloatText(value=150.0, description='Triglicéridos (50-400 mg/dL):', layout=Layout(width='700px'), style=Descri…"
            ],
            "application/vnd.jupyter.widget-view+json": {
              "version_major": 2,
              "version_minor": 0,
              "model_id": "3d688261723a41b28b1e87ba86c4c091"
            }
          },
          "metadata": {}
        },
        {
          "output_type": "display_data",
          "data": {
            "text/plain": [
              "FloatText(value=30.0, description='MMSE (0-30):', layout=Layout(width='700px'), style=DescriptionStyle(descrip…"
            ],
            "application/vnd.jupyter.widget-view+json": {
              "version_major": 2,
              "version_minor": 0,
              "model_id": "00360cf32b324bc1a9db10065cac3bdf"
            }
          },
          "metadata": {}
        },
        {
          "output_type": "display_data",
          "data": {
            "text/plain": [
              "FloatText(value=0.0, description='Evaluación Funcional (0-10):', layout=Layout(width='700px'), style=Descripti…"
            ],
            "application/vnd.jupyter.widget-view+json": {
              "version_major": 2,
              "version_minor": 0,
              "model_id": "256b9532e3b84d24b5190f91cd9f8785"
            }
          },
          "metadata": {}
        },
        {
          "output_type": "display_data",
          "data": {
            "text/plain": [
              "Dropdown(description='Quejas de Memoria (0: No, 1: Sí):', layout=Layout(width='700px'), options=(0, 1), style=…"
            ],
            "application/vnd.jupyter.widget-view+json": {
              "version_major": 2,
              "version_minor": 0,
              "model_id": "ab80618f95554a0ea66ae12f5370e195"
            }
          },
          "metadata": {}
        },
        {
          "output_type": "display_data",
          "data": {
            "text/plain": [
              "Dropdown(description='Problemas de Comportamiento (0: No, 1: Sí):', layout=Layout(width='700px'), options=(0, …"
            ],
            "application/vnd.jupyter.widget-view+json": {
              "version_major": 2,
              "version_minor": 0,
              "model_id": "a937cb8d8ec64fe08819bf936fb698b9"
            }
          },
          "metadata": {}
        },
        {
          "output_type": "display_data",
          "data": {
            "text/plain": [
              "FloatText(value=0.0, description='ADL (0-10):', layout=Layout(width='700px'), style=DescriptionStyle(descripti…"
            ],
            "application/vnd.jupyter.widget-view+json": {
              "version_major": 2,
              "version_minor": 0,
              "model_id": "480048bab31f4201894fb631471f6177"
            }
          },
          "metadata": {}
        },
        {
          "output_type": "display_data",
          "data": {
            "text/plain": [
              "Dropdown(description='Confusión (0: No, 1: Sí):', layout=Layout(width='700px'), options=(0, 1), style=Descript…"
            ],
            "application/vnd.jupyter.widget-view+json": {
              "version_major": 2,
              "version_minor": 0,
              "model_id": "53acd488858c4446a935f5f05f3f855c"
            }
          },
          "metadata": {}
        },
        {
          "output_type": "display_data",
          "data": {
            "text/plain": [
              "Dropdown(description='Desorientación (0: No, 1: Sí):', layout=Layout(width='700px'), options=(0, 1), style=Des…"
            ],
            "application/vnd.jupyter.widget-view+json": {
              "version_major": 2,
              "version_minor": 0,
              "model_id": "ccf0ac0b1b6d45a4af5e60fc67685fe7"
            }
          },
          "metadata": {}
        },
        {
          "output_type": "display_data",
          "data": {
            "text/plain": [
              "Dropdown(description='Cambios de Personalidad (0: No, 1: Sí):', layout=Layout(width='700px'), options=(0, 1), …"
            ],
            "application/vnd.jupyter.widget-view+json": {
              "version_major": 2,
              "version_minor": 0,
              "model_id": "77390b511aa44019b65a0066021098f1"
            }
          },
          "metadata": {}
        },
        {
          "output_type": "display_data",
          "data": {
            "text/plain": [
              "Dropdown(description='Dificultad para Completar Tareas (0: No, 1: Sí):', layout=Layout(width='700px'), options…"
            ],
            "application/vnd.jupyter.widget-view+json": {
              "version_major": 2,
              "version_minor": 0,
              "model_id": "392bfaaa79054868b8c452c463569779"
            }
          },
          "metadata": {}
        },
        {
          "output_type": "display_data",
          "data": {
            "text/plain": [
              "Dropdown(description='Olvidos (0: No, 1: Sí):', layout=Layout(width='700px'), options=(0, 1), style=Descriptio…"
            ],
            "application/vnd.jupyter.widget-view+json": {
              "version_major": 2,
              "version_minor": 0,
              "model_id": "490ae8f5982f4bff918e2a31c8a736f5"
            }
          },
          "metadata": {}
        },
        {
          "output_type": "display_data",
          "data": {
            "text/plain": [
              "Button(description='Predecir', layout=Layout(width='700px'), style=ButtonStyle())"
            ],
            "application/vnd.jupyter.widget-view+json": {
              "version_major": 2,
              "version_minor": 0,
              "model_id": "6dc29d06f1434d579b857ee7903ab325"
            }
          },
          "metadata": {}
        },
        {
          "output_type": "stream",
          "name": "stdout",
          "text": [
            "Predicción: No Alzheimer\n",
            "Probabilidad de tener Alzheimer: 0.21%\n"
          ]
        }
      ]
    }
  ],
  "metadata": {
    "colab": {
      "provenance": []
    },
    "kernelspec": {
      "display_name": "Python 3",
      "name": "python3"
    },
    "widgets": {
      "application/vnd.jupyter.widget-state+json": {
        "820f809cf26649b6acba7c82c042df8c": {
          "model_module": "@jupyter-widgets/controls",
          "model_name": "FloatTextModel",
          "model_module_version": "1.5.0",
          "state": {
            "_dom_classes": [],
            "_model_module": "@jupyter-widgets/controls",
            "_model_module_version": "1.5.0",
            "_model_name": "FloatTextModel",
            "_view_count": null,
            "_view_module": "@jupyter-widgets/controls",
            "_view_module_version": "1.5.0",
            "_view_name": "FloatTextView",
            "continuous_update": false,
            "description": "Edad (e.g., 65):",
            "description_tooltip": null,
            "disabled": false,
            "layout": "IPY_MODEL_0106ee40f41e42298d5b34fcd9375a76",
            "step": null,
            "style": "IPY_MODEL_ff74f9628fc4408fb936cee966f8768d",
            "value": 0
          }
        },
        "0106ee40f41e42298d5b34fcd9375a76": {
          "model_module": "@jupyter-widgets/base",
          "model_name": "LayoutModel",
          "model_module_version": "1.2.0",
          "state": {
            "_model_module": "@jupyter-widgets/base",
            "_model_module_version": "1.2.0",
            "_model_name": "LayoutModel",
            "_view_count": null,
            "_view_module": "@jupyter-widgets/base",
            "_view_module_version": "1.2.0",
            "_view_name": "LayoutView",
            "align_content": null,
            "align_items": null,
            "align_self": null,
            "border": null,
            "bottom": null,
            "display": null,
            "flex": null,
            "flex_flow": null,
            "grid_area": null,
            "grid_auto_columns": null,
            "grid_auto_flow": null,
            "grid_auto_rows": null,
            "grid_column": null,
            "grid_gap": null,
            "grid_row": null,
            "grid_template_areas": null,
            "grid_template_columns": null,
            "grid_template_rows": null,
            "height": null,
            "justify_content": null,
            "justify_items": null,
            "left": null,
            "margin": null,
            "max_height": null,
            "max_width": null,
            "min_height": null,
            "min_width": null,
            "object_fit": null,
            "object_position": null,
            "order": null,
            "overflow": null,
            "overflow_x": null,
            "overflow_y": null,
            "padding": null,
            "right": null,
            "top": null,
            "visibility": null,
            "width": "700px"
          }
        },
        "ff74f9628fc4408fb936cee966f8768d": {
          "model_module": "@jupyter-widgets/controls",
          "model_name": "DescriptionStyleModel",
          "model_module_version": "1.5.0",
          "state": {
            "_model_module": "@jupyter-widgets/controls",
            "_model_module_version": "1.5.0",
            "_model_name": "DescriptionStyleModel",
            "_view_count": null,
            "_view_module": "@jupyter-widgets/base",
            "_view_module_version": "1.2.0",
            "_view_name": "StyleView",
            "description_width": "500px"
          }
        },
        "af1fb2a09fe542329a6b01ac26b2a049": {
          "model_module": "@jupyter-widgets/controls",
          "model_name": "DropdownModel",
          "model_module_version": "1.5.0",
          "state": {
            "_dom_classes": [],
            "_model_module": "@jupyter-widgets/controls",
            "_model_module_version": "1.5.0",
            "_model_name": "DropdownModel",
            "_options_labels": [
              "0",
              "1"
            ],
            "_view_count": null,
            "_view_module": "@jupyter-widgets/controls",
            "_view_module_version": "1.5.0",
            "_view_name": "DropdownView",
            "description": "Género (0: Hombre, 1: Mujer):",
            "description_tooltip": null,
            "disabled": false,
            "index": 0,
            "layout": "IPY_MODEL_0106ee40f41e42298d5b34fcd9375a76",
            "style": "IPY_MODEL_1844651cf2ea4ed891112df10da6bcb8"
          }
        },
        "1844651cf2ea4ed891112df10da6bcb8": {
          "model_module": "@jupyter-widgets/controls",
          "model_name": "DescriptionStyleModel",
          "model_module_version": "1.5.0",
          "state": {
            "_model_module": "@jupyter-widgets/controls",
            "_model_module_version": "1.5.0",
            "_model_name": "DescriptionStyleModel",
            "_view_count": null,
            "_view_module": "@jupyter-widgets/base",
            "_view_module_version": "1.2.0",
            "_view_name": "StyleView",
            "description_width": "500px"
          }
        },
        "334bc13b9efa4bfa80bf60690e936f4c": {
          "model_module": "@jupyter-widgets/controls",
          "model_name": "DropdownModel",
          "model_module_version": "1.5.0",
          "state": {
            "_dom_classes": [],
            "_model_module": "@jupyter-widgets/controls",
            "_model_module_version": "1.5.0",
            "_model_name": "DropdownModel",
            "_options_labels": [
              "0",
              "1",
              "2",
              "3"
            ],
            "_view_count": null,
            "_view_module": "@jupyter-widgets/controls",
            "_view_module_version": "1.5.0",
            "_view_name": "DropdownView",
            "description": "Etnia (0: Caucásico, 1: Afroamericano, 2: Asiático, 3: Otro):",
            "description_tooltip": null,
            "disabled": false,
            "index": 0,
            "layout": "IPY_MODEL_0106ee40f41e42298d5b34fcd9375a76",
            "style": "IPY_MODEL_5e34b9ab3b474b3aa5502b361f00fbc4"
          }
        },
        "5e34b9ab3b474b3aa5502b361f00fbc4": {
          "model_module": "@jupyter-widgets/controls",
          "model_name": "DescriptionStyleModel",
          "model_module_version": "1.5.0",
          "state": {
            "_model_module": "@jupyter-widgets/controls",
            "_model_module_version": "1.5.0",
            "_model_name": "DescriptionStyleModel",
            "_view_count": null,
            "_view_module": "@jupyter-widgets/base",
            "_view_module_version": "1.2.0",
            "_view_name": "StyleView",
            "description_width": "500px"
          }
        },
        "84996c5127df4fb896d8fe901b9e849d": {
          "model_module": "@jupyter-widgets/controls",
          "model_name": "DropdownModel",
          "model_module_version": "1.5.0",
          "state": {
            "_dom_classes": [],
            "_model_module": "@jupyter-widgets/controls",
            "_model_module_version": "1.5.0",
            "_model_name": "DropdownModel",
            "_options_labels": [
              "0",
              "1",
              "2",
              "3"
            ],
            "_view_count": null,
            "_view_module": "@jupyter-widgets/controls",
            "_view_module_version": "1.5.0",
            "_view_name": "DropdownView",
            "description": "Nivel Educativo (0: Ninguno, 1: Secundaria, 2: Licenciatura, 3: Superior):",
            "description_tooltip": null,
            "disabled": false,
            "index": 0,
            "layout": "IPY_MODEL_0106ee40f41e42298d5b34fcd9375a76",
            "style": "IPY_MODEL_c00ed965eb934af399b03be38efd61b8"
          }
        },
        "c00ed965eb934af399b03be38efd61b8": {
          "model_module": "@jupyter-widgets/controls",
          "model_name": "DescriptionStyleModel",
          "model_module_version": "1.5.0",
          "state": {
            "_model_module": "@jupyter-widgets/controls",
            "_model_module_version": "1.5.0",
            "_model_name": "DescriptionStyleModel",
            "_view_count": null,
            "_view_module": "@jupyter-widgets/base",
            "_view_module_version": "1.2.0",
            "_view_name": "StyleView",
            "description_width": "500px"
          }
        },
        "0f8423a57e0a4804bce8160173d0bba8": {
          "model_module": "@jupyter-widgets/controls",
          "model_name": "FloatTextModel",
          "model_module_version": "1.5.0",
          "state": {
            "_dom_classes": [],
            "_model_module": "@jupyter-widgets/controls",
            "_model_module_version": "1.5.0",
            "_model_name": "FloatTextModel",
            "_view_count": null,
            "_view_module": "@jupyter-widgets/controls",
            "_view_module_version": "1.5.0",
            "_view_name": "FloatTextView",
            "continuous_update": false,
            "description": "IMC (15-40):",
            "description_tooltip": null,
            "disabled": false,
            "layout": "IPY_MODEL_0106ee40f41e42298d5b34fcd9375a76",
            "step": null,
            "style": "IPY_MODEL_6cca8414f9d8400abfa74e384f3a9bdc",
            "value": 0
          }
        },
        "6cca8414f9d8400abfa74e384f3a9bdc": {
          "model_module": "@jupyter-widgets/controls",
          "model_name": "DescriptionStyleModel",
          "model_module_version": "1.5.0",
          "state": {
            "_model_module": "@jupyter-widgets/controls",
            "_model_module_version": "1.5.0",
            "_model_name": "DescriptionStyleModel",
            "_view_count": null,
            "_view_module": "@jupyter-widgets/base",
            "_view_module_version": "1.2.0",
            "_view_name": "StyleView",
            "description_width": "500px"
          }
        },
        "5871351286f44239a5fd858e4cac81bd": {
          "model_module": "@jupyter-widgets/controls",
          "model_name": "DropdownModel",
          "model_module_version": "1.5.0",
          "state": {
            "_dom_classes": [],
            "_model_module": "@jupyter-widgets/controls",
            "_model_module_version": "1.5.0",
            "_model_name": "DropdownModel",
            "_options_labels": [
              "0",
              "1"
            ],
            "_view_count": null,
            "_view_module": "@jupyter-widgets/controls",
            "_view_module_version": "1.5.0",
            "_view_name": "DropdownView",
            "description": "Fuma (0: No, 1: Sí):",
            "description_tooltip": null,
            "disabled": false,
            "index": 0,
            "layout": "IPY_MODEL_0106ee40f41e42298d5b34fcd9375a76",
            "style": "IPY_MODEL_74494726c35744d290d13b5db81631cf"
          }
        },
        "74494726c35744d290d13b5db81631cf": {
          "model_module": "@jupyter-widgets/controls",
          "model_name": "DescriptionStyleModel",
          "model_module_version": "1.5.0",
          "state": {
            "_model_module": "@jupyter-widgets/controls",
            "_model_module_version": "1.5.0",
            "_model_name": "DescriptionStyleModel",
            "_view_count": null,
            "_view_module": "@jupyter-widgets/base",
            "_view_module_version": "1.2.0",
            "_view_name": "StyleView",
            "description_width": "500px"
          }
        },
        "fb2e7d10d7a3444fbe5e40d2d232eede": {
          "model_module": "@jupyter-widgets/controls",
          "model_name": "FloatTextModel",
          "model_module_version": "1.5.0",
          "state": {
            "_dom_classes": [],
            "_model_module": "@jupyter-widgets/controls",
            "_model_module_version": "1.5.0",
            "_model_name": "FloatTextModel",
            "_view_count": null,
            "_view_module": "@jupyter-widgets/controls",
            "_view_module_version": "1.5.0",
            "_view_name": "FloatTextView",
            "continuous_update": false,
            "description": "Consumo de Alcohol (0-20 unidades/semana):",
            "description_tooltip": null,
            "disabled": false,
            "layout": "IPY_MODEL_0106ee40f41e42298d5b34fcd9375a76",
            "step": null,
            "style": "IPY_MODEL_1fbcd89f04834ae9805157e05eeb5eee",
            "value": 0
          }
        },
        "1fbcd89f04834ae9805157e05eeb5eee": {
          "model_module": "@jupyter-widgets/controls",
          "model_name": "DescriptionStyleModel",
          "model_module_version": "1.5.0",
          "state": {
            "_model_module": "@jupyter-widgets/controls",
            "_model_module_version": "1.5.0",
            "_model_name": "DescriptionStyleModel",
            "_view_count": null,
            "_view_module": "@jupyter-widgets/base",
            "_view_module_version": "1.2.0",
            "_view_name": "StyleView",
            "description_width": "500px"
          }
        },
        "dc726c88c66642cf82113a6a0a1ab81d": {
          "model_module": "@jupyter-widgets/controls",
          "model_name": "FloatTextModel",
          "model_module_version": "1.5.0",
          "state": {
            "_dom_classes": [],
            "_model_module": "@jupyter-widgets/controls",
            "_model_module_version": "1.5.0",
            "_model_name": "FloatTextModel",
            "_view_count": null,
            "_view_module": "@jupyter-widgets/controls",
            "_view_module_version": "1.5.0",
            "_view_name": "FloatTextView",
            "continuous_update": false,
            "description": "Actividad Física (0-10 horas/semana):",
            "description_tooltip": null,
            "disabled": false,
            "layout": "IPY_MODEL_0106ee40f41e42298d5b34fcd9375a76",
            "step": null,
            "style": "IPY_MODEL_aec1d112949c434ea9d6f691f7a79fb5",
            "value": 0
          }
        },
        "aec1d112949c434ea9d6f691f7a79fb5": {
          "model_module": "@jupyter-widgets/controls",
          "model_name": "DescriptionStyleModel",
          "model_module_version": "1.5.0",
          "state": {
            "_model_module": "@jupyter-widgets/controls",
            "_model_module_version": "1.5.0",
            "_model_name": "DescriptionStyleModel",
            "_view_count": null,
            "_view_module": "@jupyter-widgets/base",
            "_view_module_version": "1.2.0",
            "_view_name": "StyleView",
            "description_width": "500px"
          }
        },
        "1220663eb2f7444fbee61a7e00aa83c0": {
          "model_module": "@jupyter-widgets/controls",
          "model_name": "FloatTextModel",
          "model_module_version": "1.5.0",
          "state": {
            "_dom_classes": [],
            "_model_module": "@jupyter-widgets/controls",
            "_model_module_version": "1.5.0",
            "_model_name": "FloatTextModel",
            "_view_count": null,
            "_view_module": "@jupyter-widgets/controls",
            "_view_module_version": "1.5.0",
            "_view_name": "FloatTextView",
            "continuous_update": false,
            "description": "Calidad de la Dieta (0-10):",
            "description_tooltip": null,
            "disabled": false,
            "layout": "IPY_MODEL_0106ee40f41e42298d5b34fcd9375a76",
            "step": null,
            "style": "IPY_MODEL_feea3a3f769744a48cd4cb01abbdd5fd",
            "value": 0
          }
        },
        "feea3a3f769744a48cd4cb01abbdd5fd": {
          "model_module": "@jupyter-widgets/controls",
          "model_name": "DescriptionStyleModel",
          "model_module_version": "1.5.0",
          "state": {
            "_model_module": "@jupyter-widgets/controls",
            "_model_module_version": "1.5.0",
            "_model_name": "DescriptionStyleModel",
            "_view_count": null,
            "_view_module": "@jupyter-widgets/base",
            "_view_module_version": "1.2.0",
            "_view_name": "StyleView",
            "description_width": "500px"
          }
        },
        "7d4268ec25ce4ed0b1bfa7028ef75930": {
          "model_module": "@jupyter-widgets/controls",
          "model_name": "FloatTextModel",
          "model_module_version": "1.5.0",
          "state": {
            "_dom_classes": [],
            "_model_module": "@jupyter-widgets/controls",
            "_model_module_version": "1.5.0",
            "_model_name": "FloatTextModel",
            "_view_count": null,
            "_view_module": "@jupyter-widgets/controls",
            "_view_module_version": "1.5.0",
            "_view_name": "FloatTextView",
            "continuous_update": false,
            "description": "Calidad del Sueño (4-10):",
            "description_tooltip": null,
            "disabled": false,
            "layout": "IPY_MODEL_0106ee40f41e42298d5b34fcd9375a76",
            "step": null,
            "style": "IPY_MODEL_f0787ce5ddd446849e779c8fd121d33c",
            "value": 4
          }
        },
        "f0787ce5ddd446849e779c8fd121d33c": {
          "model_module": "@jupyter-widgets/controls",
          "model_name": "DescriptionStyleModel",
          "model_module_version": "1.5.0",
          "state": {
            "_model_module": "@jupyter-widgets/controls",
            "_model_module_version": "1.5.0",
            "_model_name": "DescriptionStyleModel",
            "_view_count": null,
            "_view_module": "@jupyter-widgets/base",
            "_view_module_version": "1.2.0",
            "_view_name": "StyleView",
            "description_width": "500px"
          }
        },
        "e5eafe9a578f406893d9bfe855303701": {
          "model_module": "@jupyter-widgets/controls",
          "model_name": "DropdownModel",
          "model_module_version": "1.5.0",
          "state": {
            "_dom_classes": [],
            "_model_module": "@jupyter-widgets/controls",
            "_model_module_version": "1.5.0",
            "_model_name": "DropdownModel",
            "_options_labels": [
              "0",
              "1"
            ],
            "_view_count": null,
            "_view_module": "@jupyter-widgets/controls",
            "_view_module_version": "1.5.0",
            "_view_name": "DropdownView",
            "description": "Historial Familiar de Alzheimer (0: No, 1: Sí):",
            "description_tooltip": null,
            "disabled": false,
            "index": 0,
            "layout": "IPY_MODEL_0106ee40f41e42298d5b34fcd9375a76",
            "style": "IPY_MODEL_c5a61631b9a241d29c7bed85f0169c36"
          }
        },
        "c5a61631b9a241d29c7bed85f0169c36": {
          "model_module": "@jupyter-widgets/controls",
          "model_name": "DescriptionStyleModel",
          "model_module_version": "1.5.0",
          "state": {
            "_model_module": "@jupyter-widgets/controls",
            "_model_module_version": "1.5.0",
            "_model_name": "DescriptionStyleModel",
            "_view_count": null,
            "_view_module": "@jupyter-widgets/base",
            "_view_module_version": "1.2.0",
            "_view_name": "StyleView",
            "description_width": "500px"
          }
        },
        "67823dd8deca4dd1980d80de275f4d9c": {
          "model_module": "@jupyter-widgets/controls",
          "model_name": "DropdownModel",
          "model_module_version": "1.5.0",
          "state": {
            "_dom_classes": [],
            "_model_module": "@jupyter-widgets/controls",
            "_model_module_version": "1.5.0",
            "_model_name": "DropdownModel",
            "_options_labels": [
              "0",
              "1"
            ],
            "_view_count": null,
            "_view_module": "@jupyter-widgets/controls",
            "_view_module_version": "1.5.0",
            "_view_name": "DropdownView",
            "description": "Enfermedad Cardiovascular (0: No, 1: Sí):",
            "description_tooltip": null,
            "disabled": false,
            "index": 0,
            "layout": "IPY_MODEL_0106ee40f41e42298d5b34fcd9375a76",
            "style": "IPY_MODEL_bac84a08a80b4a8098a2ff5fa44b70ee"
          }
        },
        "bac84a08a80b4a8098a2ff5fa44b70ee": {
          "model_module": "@jupyter-widgets/controls",
          "model_name": "DescriptionStyleModel",
          "model_module_version": "1.5.0",
          "state": {
            "_model_module": "@jupyter-widgets/controls",
            "_model_module_version": "1.5.0",
            "_model_name": "DescriptionStyleModel",
            "_view_count": null,
            "_view_module": "@jupyter-widgets/base",
            "_view_module_version": "1.2.0",
            "_view_name": "StyleView",
            "description_width": "500px"
          }
        },
        "af5ea4e670b541fa94ac0855cab039ae": {
          "model_module": "@jupyter-widgets/controls",
          "model_name": "DropdownModel",
          "model_module_version": "1.5.0",
          "state": {
            "_dom_classes": [],
            "_model_module": "@jupyter-widgets/controls",
            "_model_module_version": "1.5.0",
            "_model_name": "DropdownModel",
            "_options_labels": [
              "0",
              "1"
            ],
            "_view_count": null,
            "_view_module": "@jupyter-widgets/controls",
            "_view_module_version": "1.5.0",
            "_view_name": "DropdownView",
            "description": "Diabetes (0: No, 1: Sí):",
            "description_tooltip": null,
            "disabled": false,
            "index": 0,
            "layout": "IPY_MODEL_0106ee40f41e42298d5b34fcd9375a76",
            "style": "IPY_MODEL_1d262bfff2e0404aaebadfdaf5fd3453"
          }
        },
        "1d262bfff2e0404aaebadfdaf5fd3453": {
          "model_module": "@jupyter-widgets/controls",
          "model_name": "DescriptionStyleModel",
          "model_module_version": "1.5.0",
          "state": {
            "_model_module": "@jupyter-widgets/controls",
            "_model_module_version": "1.5.0",
            "_model_name": "DescriptionStyleModel",
            "_view_count": null,
            "_view_module": "@jupyter-widgets/base",
            "_view_module_version": "1.2.0",
            "_view_name": "StyleView",
            "description_width": "500px"
          }
        },
        "c70bac14f52d491b9a958fad9ce4e449": {
          "model_module": "@jupyter-widgets/controls",
          "model_name": "DropdownModel",
          "model_module_version": "1.5.0",
          "state": {
            "_dom_classes": [],
            "_model_module": "@jupyter-widgets/controls",
            "_model_module_version": "1.5.0",
            "_model_name": "DropdownModel",
            "_options_labels": [
              "0",
              "1"
            ],
            "_view_count": null,
            "_view_module": "@jupyter-widgets/controls",
            "_view_module_version": "1.5.0",
            "_view_name": "DropdownView",
            "description": "Depresión (0: No, 1: Sí):",
            "description_tooltip": null,
            "disabled": false,
            "index": 0,
            "layout": "IPY_MODEL_0106ee40f41e42298d5b34fcd9375a76",
            "style": "IPY_MODEL_308734b0c4344179a6aadbd8be1efb98"
          }
        },
        "308734b0c4344179a6aadbd8be1efb98": {
          "model_module": "@jupyter-widgets/controls",
          "model_name": "DescriptionStyleModel",
          "model_module_version": "1.5.0",
          "state": {
            "_model_module": "@jupyter-widgets/controls",
            "_model_module_version": "1.5.0",
            "_model_name": "DescriptionStyleModel",
            "_view_count": null,
            "_view_module": "@jupyter-widgets/base",
            "_view_module_version": "1.2.0",
            "_view_name": "StyleView",
            "description_width": "500px"
          }
        },
        "5feb6289edeb48c5881a935705d80816": {
          "model_module": "@jupyter-widgets/controls",
          "model_name": "DropdownModel",
          "model_module_version": "1.5.0",
          "state": {
            "_dom_classes": [],
            "_model_module": "@jupyter-widgets/controls",
            "_model_module_version": "1.5.0",
            "_model_name": "DropdownModel",
            "_options_labels": [
              "0",
              "1"
            ],
            "_view_count": null,
            "_view_module": "@jupyter-widgets/controls",
            "_view_module_version": "1.5.0",
            "_view_name": "DropdownView",
            "description": "Lesión en la Cabeza (0: No, 1: Sí):",
            "description_tooltip": null,
            "disabled": false,
            "index": 0,
            "layout": "IPY_MODEL_0106ee40f41e42298d5b34fcd9375a76",
            "style": "IPY_MODEL_88bbd1a06f9c4ecd9dbf5a7aef2e3823"
          }
        },
        "88bbd1a06f9c4ecd9dbf5a7aef2e3823": {
          "model_module": "@jupyter-widgets/controls",
          "model_name": "DescriptionStyleModel",
          "model_module_version": "1.5.0",
          "state": {
            "_model_module": "@jupyter-widgets/controls",
            "_model_module_version": "1.5.0",
            "_model_name": "DescriptionStyleModel",
            "_view_count": null,
            "_view_module": "@jupyter-widgets/base",
            "_view_module_version": "1.2.0",
            "_view_name": "StyleView",
            "description_width": "500px"
          }
        },
        "d66b085946744fa8a307f45f6309ca22": {
          "model_module": "@jupyter-widgets/controls",
          "model_name": "DropdownModel",
          "model_module_version": "1.5.0",
          "state": {
            "_dom_classes": [],
            "_model_module": "@jupyter-widgets/controls",
            "_model_module_version": "1.5.0",
            "_model_name": "DropdownModel",
            "_options_labels": [
              "0",
              "1"
            ],
            "_view_count": null,
            "_view_module": "@jupyter-widgets/controls",
            "_view_module_version": "1.5.0",
            "_view_name": "DropdownView",
            "description": "Hipertensión (0: No, 1: Sí):",
            "description_tooltip": null,
            "disabled": false,
            "index": 0,
            "layout": "IPY_MODEL_0106ee40f41e42298d5b34fcd9375a76",
            "style": "IPY_MODEL_15f69b9d7ef84425be994896095d065b"
          }
        },
        "15f69b9d7ef84425be994896095d065b": {
          "model_module": "@jupyter-widgets/controls",
          "model_name": "DescriptionStyleModel",
          "model_module_version": "1.5.0",
          "state": {
            "_model_module": "@jupyter-widgets/controls",
            "_model_module_version": "1.5.0",
            "_model_name": "DescriptionStyleModel",
            "_view_count": null,
            "_view_module": "@jupyter-widgets/base",
            "_view_module_version": "1.2.0",
            "_view_name": "StyleView",
            "description_width": "500px"
          }
        },
        "4b39aa8201384be889725173c2693bfe": {
          "model_module": "@jupyter-widgets/controls",
          "model_name": "FloatTextModel",
          "model_module_version": "1.5.0",
          "state": {
            "_dom_classes": [],
            "_model_module": "@jupyter-widgets/controls",
            "_model_module_version": "1.5.0",
            "_model_name": "FloatTextModel",
            "_view_count": null,
            "_view_module": "@jupyter-widgets/controls",
            "_view_module_version": "1.5.0",
            "_view_name": "FloatTextView",
            "continuous_update": false,
            "description": "Presión Sistólica (90-180 mmHg):",
            "description_tooltip": null,
            "disabled": false,
            "layout": "IPY_MODEL_0106ee40f41e42298d5b34fcd9375a76",
            "step": null,
            "style": "IPY_MODEL_f42515c5889d4d1b9d9103675332b1d7",
            "value": 120
          }
        },
        "f42515c5889d4d1b9d9103675332b1d7": {
          "model_module": "@jupyter-widgets/controls",
          "model_name": "DescriptionStyleModel",
          "model_module_version": "1.5.0",
          "state": {
            "_model_module": "@jupyter-widgets/controls",
            "_model_module_version": "1.5.0",
            "_model_name": "DescriptionStyleModel",
            "_view_count": null,
            "_view_module": "@jupyter-widgets/base",
            "_view_module_version": "1.2.0",
            "_view_name": "StyleView",
            "description_width": "500px"
          }
        },
        "8972964c01a34a19a64b83a6329ada4f": {
          "model_module": "@jupyter-widgets/controls",
          "model_name": "FloatTextModel",
          "model_module_version": "1.5.0",
          "state": {
            "_dom_classes": [],
            "_model_module": "@jupyter-widgets/controls",
            "_model_module_version": "1.5.0",
            "_model_name": "FloatTextModel",
            "_view_count": null,
            "_view_module": "@jupyter-widgets/controls",
            "_view_module_version": "1.5.0",
            "_view_name": "FloatTextView",
            "continuous_update": false,
            "description": "Presión Diastólica (60-120 mmHg):",
            "description_tooltip": null,
            "disabled": false,
            "layout": "IPY_MODEL_0106ee40f41e42298d5b34fcd9375a76",
            "step": null,
            "style": "IPY_MODEL_6a81278fa78e4ccdbc653e92bd48c3ce",
            "value": 80
          }
        },
        "6a81278fa78e4ccdbc653e92bd48c3ce": {
          "model_module": "@jupyter-widgets/controls",
          "model_name": "DescriptionStyleModel",
          "model_module_version": "1.5.0",
          "state": {
            "_model_module": "@jupyter-widgets/controls",
            "_model_module_version": "1.5.0",
            "_model_name": "DescriptionStyleModel",
            "_view_count": null,
            "_view_module": "@jupyter-widgets/base",
            "_view_module_version": "1.2.0",
            "_view_name": "StyleView",
            "description_width": "500px"
          }
        },
        "a8787b01a0de41ce80f8d6ab3a6894c6": {
          "model_module": "@jupyter-widgets/controls",
          "model_name": "FloatTextModel",
          "model_module_version": "1.5.0",
          "state": {
            "_dom_classes": [],
            "_model_module": "@jupyter-widgets/controls",
            "_model_module_version": "1.5.0",
            "_model_name": "FloatTextModel",
            "_view_count": null,
            "_view_module": "@jupyter-widgets/controls",
            "_view_module_version": "1.5.0",
            "_view_name": "FloatTextView",
            "continuous_update": false,
            "description": "Colesterol Total (150-300 mg/dL):",
            "description_tooltip": null,
            "disabled": false,
            "layout": "IPY_MODEL_0106ee40f41e42298d5b34fcd9375a76",
            "step": null,
            "style": "IPY_MODEL_b86ce9be32d84559bf6559656d16d020",
            "value": 200
          }
        },
        "b86ce9be32d84559bf6559656d16d020": {
          "model_module": "@jupyter-widgets/controls",
          "model_name": "DescriptionStyleModel",
          "model_module_version": "1.5.0",
          "state": {
            "_model_module": "@jupyter-widgets/controls",
            "_model_module_version": "1.5.0",
            "_model_name": "DescriptionStyleModel",
            "_view_count": null,
            "_view_module": "@jupyter-widgets/base",
            "_view_module_version": "1.2.0",
            "_view_name": "StyleView",
            "description_width": "500px"
          }
        },
        "2994ae5b0a724f6498449cc548d76aa6": {
          "model_module": "@jupyter-widgets/controls",
          "model_name": "FloatTextModel",
          "model_module_version": "1.5.0",
          "state": {
            "_dom_classes": [],
            "_model_module": "@jupyter-widgets/controls",
            "_model_module_version": "1.5.0",
            "_model_name": "FloatTextModel",
            "_view_count": null,
            "_view_module": "@jupyter-widgets/controls",
            "_view_module_version": "1.5.0",
            "_view_name": "FloatTextView",
            "continuous_update": false,
            "description": "Colesterol LDL (50-200 mg/dL):",
            "description_tooltip": null,
            "disabled": false,
            "layout": "IPY_MODEL_0106ee40f41e42298d5b34fcd9375a76",
            "step": null,
            "style": "IPY_MODEL_64d6c1c1b24d4397b327ca56c73f888a",
            "value": 100
          }
        },
        "64d6c1c1b24d4397b327ca56c73f888a": {
          "model_module": "@jupyter-widgets/controls",
          "model_name": "DescriptionStyleModel",
          "model_module_version": "1.5.0",
          "state": {
            "_model_module": "@jupyter-widgets/controls",
            "_model_module_version": "1.5.0",
            "_model_name": "DescriptionStyleModel",
            "_view_count": null,
            "_view_module": "@jupyter-widgets/base",
            "_view_module_version": "1.2.0",
            "_view_name": "StyleView",
            "description_width": "500px"
          }
        },
        "b73e48ac75334623ae1691c4a3110166": {
          "model_module": "@jupyter-widgets/controls",
          "model_name": "FloatTextModel",
          "model_module_version": "1.5.0",
          "state": {
            "_dom_classes": [],
            "_model_module": "@jupyter-widgets/controls",
            "_model_module_version": "1.5.0",
            "_model_name": "FloatTextModel",
            "_view_count": null,
            "_view_module": "@jupyter-widgets/controls",
            "_view_module_version": "1.5.0",
            "_view_name": "FloatTextView",
            "continuous_update": false,
            "description": "Colesterol HDL (20-100 mg/dL):",
            "description_tooltip": null,
            "disabled": false,
            "layout": "IPY_MODEL_0106ee40f41e42298d5b34fcd9375a76",
            "step": null,
            "style": "IPY_MODEL_312cb36360734e059d1168930cdbfa71",
            "value": 50
          }
        },
        "312cb36360734e059d1168930cdbfa71": {
          "model_module": "@jupyter-widgets/controls",
          "model_name": "DescriptionStyleModel",
          "model_module_version": "1.5.0",
          "state": {
            "_model_module": "@jupyter-widgets/controls",
            "_model_module_version": "1.5.0",
            "_model_name": "DescriptionStyleModel",
            "_view_count": null,
            "_view_module": "@jupyter-widgets/base",
            "_view_module_version": "1.2.0",
            "_view_name": "StyleView",
            "description_width": "500px"
          }
        },
        "3d688261723a41b28b1e87ba86c4c091": {
          "model_module": "@jupyter-widgets/controls",
          "model_name": "FloatTextModel",
          "model_module_version": "1.5.0",
          "state": {
            "_dom_classes": [],
            "_model_module": "@jupyter-widgets/controls",
            "_model_module_version": "1.5.0",
            "_model_name": "FloatTextModel",
            "_view_count": null,
            "_view_module": "@jupyter-widgets/controls",
            "_view_module_version": "1.5.0",
            "_view_name": "FloatTextView",
            "continuous_update": false,
            "description": "Triglicéridos (50-400 mg/dL):",
            "description_tooltip": null,
            "disabled": false,
            "layout": "IPY_MODEL_0106ee40f41e42298d5b34fcd9375a76",
            "step": null,
            "style": "IPY_MODEL_31075646e3244d329efe93508d58e2c0",
            "value": 150
          }
        },
        "31075646e3244d329efe93508d58e2c0": {
          "model_module": "@jupyter-widgets/controls",
          "model_name": "DescriptionStyleModel",
          "model_module_version": "1.5.0",
          "state": {
            "_model_module": "@jupyter-widgets/controls",
            "_model_module_version": "1.5.0",
            "_model_name": "DescriptionStyleModel",
            "_view_count": null,
            "_view_module": "@jupyter-widgets/base",
            "_view_module_version": "1.2.0",
            "_view_name": "StyleView",
            "description_width": "500px"
          }
        },
        "00360cf32b324bc1a9db10065cac3bdf": {
          "model_module": "@jupyter-widgets/controls",
          "model_name": "FloatTextModel",
          "model_module_version": "1.5.0",
          "state": {
            "_dom_classes": [],
            "_model_module": "@jupyter-widgets/controls",
            "_model_module_version": "1.5.0",
            "_model_name": "FloatTextModel",
            "_view_count": null,
            "_view_module": "@jupyter-widgets/controls",
            "_view_module_version": "1.5.0",
            "_view_name": "FloatTextView",
            "continuous_update": false,
            "description": "MMSE (0-30):",
            "description_tooltip": null,
            "disabled": false,
            "layout": "IPY_MODEL_0106ee40f41e42298d5b34fcd9375a76",
            "step": null,
            "style": "IPY_MODEL_ff798e12749641ac8d470d7eb7de16a9",
            "value": 30
          }
        },
        "ff798e12749641ac8d470d7eb7de16a9": {
          "model_module": "@jupyter-widgets/controls",
          "model_name": "DescriptionStyleModel",
          "model_module_version": "1.5.0",
          "state": {
            "_model_module": "@jupyter-widgets/controls",
            "_model_module_version": "1.5.0",
            "_model_name": "DescriptionStyleModel",
            "_view_count": null,
            "_view_module": "@jupyter-widgets/base",
            "_view_module_version": "1.2.0",
            "_view_name": "StyleView",
            "description_width": "500px"
          }
        },
        "256b9532e3b84d24b5190f91cd9f8785": {
          "model_module": "@jupyter-widgets/controls",
          "model_name": "FloatTextModel",
          "model_module_version": "1.5.0",
          "state": {
            "_dom_classes": [],
            "_model_module": "@jupyter-widgets/controls",
            "_model_module_version": "1.5.0",
            "_model_name": "FloatTextModel",
            "_view_count": null,
            "_view_module": "@jupyter-widgets/controls",
            "_view_module_version": "1.5.0",
            "_view_name": "FloatTextView",
            "continuous_update": false,
            "description": "Evaluación Funcional (0-10):",
            "description_tooltip": null,
            "disabled": false,
            "layout": "IPY_MODEL_0106ee40f41e42298d5b34fcd9375a76",
            "step": null,
            "style": "IPY_MODEL_8ce734e3f0334adcb73e57d16b0ed77e",
            "value": 0
          }
        },
        "8ce734e3f0334adcb73e57d16b0ed77e": {
          "model_module": "@jupyter-widgets/controls",
          "model_name": "DescriptionStyleModel",
          "model_module_version": "1.5.0",
          "state": {
            "_model_module": "@jupyter-widgets/controls",
            "_model_module_version": "1.5.0",
            "_model_name": "DescriptionStyleModel",
            "_view_count": null,
            "_view_module": "@jupyter-widgets/base",
            "_view_module_version": "1.2.0",
            "_view_name": "StyleView",
            "description_width": "500px"
          }
        },
        "ab80618f95554a0ea66ae12f5370e195": {
          "model_module": "@jupyter-widgets/controls",
          "model_name": "DropdownModel",
          "model_module_version": "1.5.0",
          "state": {
            "_dom_classes": [],
            "_model_module": "@jupyter-widgets/controls",
            "_model_module_version": "1.5.0",
            "_model_name": "DropdownModel",
            "_options_labels": [
              "0",
              "1"
            ],
            "_view_count": null,
            "_view_module": "@jupyter-widgets/controls",
            "_view_module_version": "1.5.0",
            "_view_name": "DropdownView",
            "description": "Quejas de Memoria (0: No, 1: Sí):",
            "description_tooltip": null,
            "disabled": false,
            "index": 0,
            "layout": "IPY_MODEL_0106ee40f41e42298d5b34fcd9375a76",
            "style": "IPY_MODEL_36298014c31a43f092edddc8f444e204"
          }
        },
        "36298014c31a43f092edddc8f444e204": {
          "model_module": "@jupyter-widgets/controls",
          "model_name": "DescriptionStyleModel",
          "model_module_version": "1.5.0",
          "state": {
            "_model_module": "@jupyter-widgets/controls",
            "_model_module_version": "1.5.0",
            "_model_name": "DescriptionStyleModel",
            "_view_count": null,
            "_view_module": "@jupyter-widgets/base",
            "_view_module_version": "1.2.0",
            "_view_name": "StyleView",
            "description_width": "500px"
          }
        },
        "a937cb8d8ec64fe08819bf936fb698b9": {
          "model_module": "@jupyter-widgets/controls",
          "model_name": "DropdownModel",
          "model_module_version": "1.5.0",
          "state": {
            "_dom_classes": [],
            "_model_module": "@jupyter-widgets/controls",
            "_model_module_version": "1.5.0",
            "_model_name": "DropdownModel",
            "_options_labels": [
              "0",
              "1"
            ],
            "_view_count": null,
            "_view_module": "@jupyter-widgets/controls",
            "_view_module_version": "1.5.0",
            "_view_name": "DropdownView",
            "description": "Problemas de Comportamiento (0: No, 1: Sí):",
            "description_tooltip": null,
            "disabled": false,
            "index": 0,
            "layout": "IPY_MODEL_0106ee40f41e42298d5b34fcd9375a76",
            "style": "IPY_MODEL_a5b0000954324093b5f11bb905a9fe98"
          }
        },
        "a5b0000954324093b5f11bb905a9fe98": {
          "model_module": "@jupyter-widgets/controls",
          "model_name": "DescriptionStyleModel",
          "model_module_version": "1.5.0",
          "state": {
            "_model_module": "@jupyter-widgets/controls",
            "_model_module_version": "1.5.0",
            "_model_name": "DescriptionStyleModel",
            "_view_count": null,
            "_view_module": "@jupyter-widgets/base",
            "_view_module_version": "1.2.0",
            "_view_name": "StyleView",
            "description_width": "500px"
          }
        },
        "480048bab31f4201894fb631471f6177": {
          "model_module": "@jupyter-widgets/controls",
          "model_name": "FloatTextModel",
          "model_module_version": "1.5.0",
          "state": {
            "_dom_classes": [],
            "_model_module": "@jupyter-widgets/controls",
            "_model_module_version": "1.5.0",
            "_model_name": "FloatTextModel",
            "_view_count": null,
            "_view_module": "@jupyter-widgets/controls",
            "_view_module_version": "1.5.0",
            "_view_name": "FloatTextView",
            "continuous_update": false,
            "description": "ADL (0-10):",
            "description_tooltip": null,
            "disabled": false,
            "layout": "IPY_MODEL_0106ee40f41e42298d5b34fcd9375a76",
            "step": null,
            "style": "IPY_MODEL_3aaa981b61da42cdb315696f487a029e",
            "value": 0
          }
        },
        "3aaa981b61da42cdb315696f487a029e": {
          "model_module": "@jupyter-widgets/controls",
          "model_name": "DescriptionStyleModel",
          "model_module_version": "1.5.0",
          "state": {
            "_model_module": "@jupyter-widgets/controls",
            "_model_module_version": "1.5.0",
            "_model_name": "DescriptionStyleModel",
            "_view_count": null,
            "_view_module": "@jupyter-widgets/base",
            "_view_module_version": "1.2.0",
            "_view_name": "StyleView",
            "description_width": "500px"
          }
        },
        "53acd488858c4446a935f5f05f3f855c": {
          "model_module": "@jupyter-widgets/controls",
          "model_name": "DropdownModel",
          "model_module_version": "1.5.0",
          "state": {
            "_dom_classes": [],
            "_model_module": "@jupyter-widgets/controls",
            "_model_module_version": "1.5.0",
            "_model_name": "DropdownModel",
            "_options_labels": [
              "0",
              "1"
            ],
            "_view_count": null,
            "_view_module": "@jupyter-widgets/controls",
            "_view_module_version": "1.5.0",
            "_view_name": "DropdownView",
            "description": "Confusión (0: No, 1: Sí):",
            "description_tooltip": null,
            "disabled": false,
            "index": 0,
            "layout": "IPY_MODEL_0106ee40f41e42298d5b34fcd9375a76",
            "style": "IPY_MODEL_3e5e12645d2e4090a8aa21926f4ec1d3"
          }
        },
        "3e5e12645d2e4090a8aa21926f4ec1d3": {
          "model_module": "@jupyter-widgets/controls",
          "model_name": "DescriptionStyleModel",
          "model_module_version": "1.5.0",
          "state": {
            "_model_module": "@jupyter-widgets/controls",
            "_model_module_version": "1.5.0",
            "_model_name": "DescriptionStyleModel",
            "_view_count": null,
            "_view_module": "@jupyter-widgets/base",
            "_view_module_version": "1.2.0",
            "_view_name": "StyleView",
            "description_width": "500px"
          }
        },
        "ccf0ac0b1b6d45a4af5e60fc67685fe7": {
          "model_module": "@jupyter-widgets/controls",
          "model_name": "DropdownModel",
          "model_module_version": "1.5.0",
          "state": {
            "_dom_classes": [],
            "_model_module": "@jupyter-widgets/controls",
            "_model_module_version": "1.5.0",
            "_model_name": "DropdownModel",
            "_options_labels": [
              "0",
              "1"
            ],
            "_view_count": null,
            "_view_module": "@jupyter-widgets/controls",
            "_view_module_version": "1.5.0",
            "_view_name": "DropdownView",
            "description": "Desorientación (0: No, 1: Sí):",
            "description_tooltip": null,
            "disabled": false,
            "index": 0,
            "layout": "IPY_MODEL_0106ee40f41e42298d5b34fcd9375a76",
            "style": "IPY_MODEL_e6f57bb7991e4aa1ac386d710216e296"
          }
        },
        "e6f57bb7991e4aa1ac386d710216e296": {
          "model_module": "@jupyter-widgets/controls",
          "model_name": "DescriptionStyleModel",
          "model_module_version": "1.5.0",
          "state": {
            "_model_module": "@jupyter-widgets/controls",
            "_model_module_version": "1.5.0",
            "_model_name": "DescriptionStyleModel",
            "_view_count": null,
            "_view_module": "@jupyter-widgets/base",
            "_view_module_version": "1.2.0",
            "_view_name": "StyleView",
            "description_width": "500px"
          }
        },
        "77390b511aa44019b65a0066021098f1": {
          "model_module": "@jupyter-widgets/controls",
          "model_name": "DropdownModel",
          "model_module_version": "1.5.0",
          "state": {
            "_dom_classes": [],
            "_model_module": "@jupyter-widgets/controls",
            "_model_module_version": "1.5.0",
            "_model_name": "DropdownModel",
            "_options_labels": [
              "0",
              "1"
            ],
            "_view_count": null,
            "_view_module": "@jupyter-widgets/controls",
            "_view_module_version": "1.5.0",
            "_view_name": "DropdownView",
            "description": "Cambios de Personalidad (0: No, 1: Sí):",
            "description_tooltip": null,
            "disabled": false,
            "index": 0,
            "layout": "IPY_MODEL_0106ee40f41e42298d5b34fcd9375a76",
            "style": "IPY_MODEL_7957625fcf044590a89ed0b1309d0423"
          }
        },
        "7957625fcf044590a89ed0b1309d0423": {
          "model_module": "@jupyter-widgets/controls",
          "model_name": "DescriptionStyleModel",
          "model_module_version": "1.5.0",
          "state": {
            "_model_module": "@jupyter-widgets/controls",
            "_model_module_version": "1.5.0",
            "_model_name": "DescriptionStyleModel",
            "_view_count": null,
            "_view_module": "@jupyter-widgets/base",
            "_view_module_version": "1.2.0",
            "_view_name": "StyleView",
            "description_width": "500px"
          }
        },
        "392bfaaa79054868b8c452c463569779": {
          "model_module": "@jupyter-widgets/controls",
          "model_name": "DropdownModel",
          "model_module_version": "1.5.0",
          "state": {
            "_dom_classes": [],
            "_model_module": "@jupyter-widgets/controls",
            "_model_module_version": "1.5.0",
            "_model_name": "DropdownModel",
            "_options_labels": [
              "0",
              "1"
            ],
            "_view_count": null,
            "_view_module": "@jupyter-widgets/controls",
            "_view_module_version": "1.5.0",
            "_view_name": "DropdownView",
            "description": "Dificultad para Completar Tareas (0: No, 1: Sí):",
            "description_tooltip": null,
            "disabled": false,
            "index": 0,
            "layout": "IPY_MODEL_0106ee40f41e42298d5b34fcd9375a76",
            "style": "IPY_MODEL_a7b420ef89e24b82a09b33cd53a02ca1"
          }
        },
        "a7b420ef89e24b82a09b33cd53a02ca1": {
          "model_module": "@jupyter-widgets/controls",
          "model_name": "DescriptionStyleModel",
          "model_module_version": "1.5.0",
          "state": {
            "_model_module": "@jupyter-widgets/controls",
            "_model_module_version": "1.5.0",
            "_model_name": "DescriptionStyleModel",
            "_view_count": null,
            "_view_module": "@jupyter-widgets/base",
            "_view_module_version": "1.2.0",
            "_view_name": "StyleView",
            "description_width": "500px"
          }
        },
        "490ae8f5982f4bff918e2a31c8a736f5": {
          "model_module": "@jupyter-widgets/controls",
          "model_name": "DropdownModel",
          "model_module_version": "1.5.0",
          "state": {
            "_dom_classes": [],
            "_model_module": "@jupyter-widgets/controls",
            "_model_module_version": "1.5.0",
            "_model_name": "DropdownModel",
            "_options_labels": [
              "0",
              "1"
            ],
            "_view_count": null,
            "_view_module": "@jupyter-widgets/controls",
            "_view_module_version": "1.5.0",
            "_view_name": "DropdownView",
            "description": "Olvidos (0: No, 1: Sí):",
            "description_tooltip": null,
            "disabled": false,
            "index": 0,
            "layout": "IPY_MODEL_0106ee40f41e42298d5b34fcd9375a76",
            "style": "IPY_MODEL_06989fbb8bd44efda6adface124aac7a"
          }
        },
        "06989fbb8bd44efda6adface124aac7a": {
          "model_module": "@jupyter-widgets/controls",
          "model_name": "DescriptionStyleModel",
          "model_module_version": "1.5.0",
          "state": {
            "_model_module": "@jupyter-widgets/controls",
            "_model_module_version": "1.5.0",
            "_model_name": "DescriptionStyleModel",
            "_view_count": null,
            "_view_module": "@jupyter-widgets/base",
            "_view_module_version": "1.2.0",
            "_view_name": "StyleView",
            "description_width": "500px"
          }
        },
        "6dc29d06f1434d579b857ee7903ab325": {
          "model_module": "@jupyter-widgets/controls",
          "model_name": "ButtonModel",
          "model_module_version": "1.5.0",
          "state": {
            "_dom_classes": [],
            "_model_module": "@jupyter-widgets/controls",
            "_model_module_version": "1.5.0",
            "_model_name": "ButtonModel",
            "_view_count": null,
            "_view_module": "@jupyter-widgets/controls",
            "_view_module_version": "1.5.0",
            "_view_name": "ButtonView",
            "button_style": "",
            "description": "Predecir",
            "disabled": false,
            "icon": "",
            "layout": "IPY_MODEL_0106ee40f41e42298d5b34fcd9375a76",
            "style": "IPY_MODEL_283884427b91469a89aa94823e977a80",
            "tooltip": ""
          }
        },
        "283884427b91469a89aa94823e977a80": {
          "model_module": "@jupyter-widgets/controls",
          "model_name": "ButtonStyleModel",
          "model_module_version": "1.5.0",
          "state": {
            "_model_module": "@jupyter-widgets/controls",
            "_model_module_version": "1.5.0",
            "_model_name": "ButtonStyleModel",
            "_view_count": null,
            "_view_module": "@jupyter-widgets/base",
            "_view_module_version": "1.2.0",
            "_view_name": "StyleView",
            "button_color": null,
            "font_weight": ""
          }
        }
      }
    }
  },
  "nbformat": 4,
  "nbformat_minor": 0
}